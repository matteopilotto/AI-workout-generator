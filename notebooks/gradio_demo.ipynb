{
 "cells": [
  {
   "cell_type": "markdown",
   "metadata": {},
   "source": [
    "### Setup"
   ]
  },
  {
   "cell_type": "code",
   "execution_count": 1,
   "metadata": {},
   "outputs": [
    {
     "name": "stderr",
     "output_type": "stream",
     "text": [
      "c:\\Users\\matte\\miniconda3\\envs\\ml\\lib\\site-packages\\pinecone\\index.py:4: TqdmExperimentalWarning: Using `tqdm.autonotebook.tqdm` in notebook mode. Use `tqdm.tqdm` instead to force console mode (e.g. in jupyter console)\n",
      "  from tqdm.autonotebook import tqdm\n"
     ]
    },
    {
     "data": {
      "text/plain": [
       "True"
      ]
     },
     "execution_count": 1,
     "metadata": {},
     "output_type": "execute_result"
    }
   ],
   "source": [
    "import os\n",
    "import random\n",
    "import time\n",
    "from dotenv import load_dotenv\n",
    "from langchain.schema.messages import HumanMessage, SystemMessage\n",
    "import pinecone\n",
    "from langchain.vectorstores import Pinecone\n",
    "from langchain.embeddings.openai import OpenAIEmbeddings\n",
    "from langchain.chat_models import ChatOpenAI\n",
    "import gradio as gr\n",
    "\n",
    "load_dotenv()"
   ]
  },
  {
   "cell_type": "code",
   "execution_count": 2,
   "metadata": {},
   "outputs": [],
   "source": [
    "def retrieve_knowledge(query, k=10, randomize=True):\n",
    "    knowledge = [d.page_content.strip() for d in vectorstore.similarity_search(query, k=k)]\n",
    "    \n",
    "    if randomize:\n",
    "        knowledge = random.sample(knowledge, k)\n",
    "\n",
    "    knowledge = \"\\n\\n\\n\".join(knowledge)\n",
    "\n",
    "    return knowledge\n",
    "\n",
    "\n",
    "def generate_workout(query, knowledge):\n",
    "    messages = [\n",
    "        SystemMessage(content=system_prompt.format(workout_context=knowledge)),\n",
    "        HumanMessage(content=query)\n",
    "    ]\n",
    "\n",
    "    response = llm.invoke(messages).content.strip()\n",
    "\n",
    "    return response\n",
    "\n",
    "\n",
    "def run(gender, muscle_group, equipment, level, duration, k=5, randomize=True):\n",
    "    query = f\"{duration}-minute {muscle_group} workout for {gender} {level} level {equipment}\"\n",
    "    knowledge = retrieve_knowledge(query, k, randomize)\n",
    "    response = generate_workout(query, knowledge)\n",
    "\n",
    "    for i in range(len(response)):\n",
    "        time.sleep(0.001)\n",
    "        yield response[:i+1]"
   ]
  },
  {
   "cell_type": "code",
   "execution_count": 4,
   "metadata": {},
   "outputs": [],
   "source": [
    "# embedding model\n",
    "embedding_model_name = \"text-embedding-ada-002\"\n",
    "\n",
    "embedding_model = OpenAIEmbeddings(\n",
    "    model=embedding_model_name,\n",
    "    openai_api_key=os.getenv(\"OPENAI_API_KEY\")\n",
    ")\n",
    "\n",
    "\n",
    "# llm\n",
    "llm = ChatOpenAI(\n",
    "    openai_api_key=os.getenv(\"OPENAI_API_KEY\"),\n",
    "    model_name=\"gpt-4-1106-preview\",\n",
    "    # model_name=\"gpt-3.5-turbo-1106\",\n",
    "    temperature=0.0\n",
    ")\n",
    "\n",
    "\n",
    "# vectorstore\n",
    "index_name = \"workouts\"\n",
    "\n",
    "pinecone.init(\n",
    "    api_key=os.getenv(\"PINECONE_API_KEY\"),\n",
    "    environment=os.getenv(\"PINECONE_ENVIRONMENT\")\n",
    ")\n",
    "\n",
    "text_field = \"text\"\n",
    "index = pinecone.Index(index_name)\n",
    "vectorstore = Pinecone(index, embedding_model, text_field)\n",
    "\n",
    "\n",
    "# prompt\n",
    "system_prompt = \"\"\"\n",
    "You're the world's best personal trainer.\n",
    "You always provide your clients with all the information needed to become fitter, stronger and healthier through physical training.\n",
    "You use your science science know and expertise, nutrition advice, and other relevant factors to create workout routines suitable to your clients.\n",
    "If clients tell you they do not have access to gym equipments, you never fail to recommend exercises that do not require any tool or equipment.\n",
    "\n",
    "For each exercise you always provide the reps, sets and rest intervals in seconds appropriate for each exercise and the client's fitness level.\n",
    "You start each workout program with about 5 minutes of warm-up exercises to make the body ready for more strenuous activities and make it easier to exercise.\n",
    "You end each workout routine with 5 about minutes of cool-down exercises to ease the body, lower the chance of injury, promote blood flow, and reduce stress to the heart and the muscles.\n",
    "The warm-up and cool-down exercises are always different and they are always appropriate for the muscle group the person wants to train.\n",
    "You never recommend exercises in the main workout routine in the warm-up or cool-down sections.\n",
    "Remember, when clients tell you they do not have access to gym equipments, all the exercises you recommend, including the warm-up and cool-down exercises, can be performed without any tool.\n",
    "You always limit yourself to respond with the list of exercises. You never add any additional comment.\n",
    "\n",
    "Design the workout based on the following information:\n",
    "{workout_context}\n",
    "\n",
    "\n",
    "Output format:\n",
    "## 🤸 Warp-up:\n",
    "- <exercise name> (<duration> minutes)\n",
    "...\n",
    "- <exercise name> (<duration> minutes)\n",
    "\n",
    "## 🏋️‍♀️ Workout\n",
    "- <exercise name> (<reps> reps, <sets> sets, <rest interval> seconds rest)\n",
    "...\n",
    "- <exercise name> (<reps> reps, <sets> sets, <rest interval> seconds rest)\n",
    "\n",
    "## 🧘 Cool-down:\n",
    "- <exercise name> (<duration> minutes)\n",
    "...\n",
    "- <exercise name> (<duration> minutes)\n",
    "\"\"\".strip()"
   ]
  },
  {
   "cell_type": "code",
   "execution_count": 5,
   "metadata": {},
   "outputs": [
    {
     "name": "stdout",
     "output_type": "stream",
     "text": [
      "Running on local URL:  http://127.0.0.1:7861\n",
      "\n",
      "To create a public link, set `share=True` in `launch()`.\n"
     ]
    },
    {
     "data": {
      "text/html": [
       "<div><iframe src=\"http://127.0.0.1:7861/\" width=\"100%\" height=\"500\" allow=\"autoplay; camera; microphone; clipboard-read; clipboard-write;\" frameborder=\"0\" allowfullscreen></iframe></div>"
      ],
      "text/plain": [
       "<IPython.core.display.HTML object>"
      ]
     },
     "metadata": {},
     "output_type": "display_data"
    },
    {
     "data": {
      "text/plain": []
     },
     "execution_count": 5,
     "metadata": {},
     "output_type": "execute_result"
    }
   ],
   "source": [
    "css = \"\"\"\n",
    "#gen-button {\n",
    "    background-color: #cc6600;\n",
    "    color: white;\n",
    "    font-size: 24px !important;\n",
    "}\n",
    "\"\"\".strip()\n",
    "\n",
    "with gr.Blocks(theme=gr.themes.Monochrome(radius_size=gr.themes.sizes.radius_sm), css=css) as demo:\n",
    "    with gr.Row():\n",
    "        gr.Markdown(\"# Workout Generator\")\n",
    "\n",
    "    with gr.Row():\n",
    "        with gr.Column(scale=1):\n",
    "            with gr.Row():\n",
    "                gender = gr.Radio([\"Male\", \"Female\"], label=\"Gender\", elem_id=\"#my-button\")\n",
    "            with gr.Row():\n",
    "                level = gr.Radio([\"Beginner\", \"Intermediate\", \"Advanced\"], label=\"Level\")\n",
    "            with gr.Row():\n",
    "                muscle_group = gr.Radio([\"Shoulders\", \"Chest\", \"Back\", \"Abs\", \"Arms\", \"Legs\"], label=\"Muscle Group\")\n",
    "            with gr.Row():\n",
    "                equipment = gr.Radio([\"Gym Equipment\", \"Dumbbells Only\", \"No Equipment\"], label=\"Equipment\")\n",
    "            with gr.Row():\n",
    "                duration = gr.Slider(20, 60, step=5, label=\"Duration (minutes)\")\n",
    "            with gr.Row():\n",
    "                # clear_button = gr.ClearButton(value=\"Clear Inputs\")\n",
    "                generate_button = gr.Button(\"Generate Workout\", variant=\"primary\", elem_id=\"gen-button\")\n",
    "        with gr.Column(scale=1, min_width=800, elem_id=\"#gen-output\"):\n",
    "            generation = gr.Markdown(value=\"\")\n",
    "\n",
    "    generate_button.click(run, inputs=[gender, level, muscle_group, equipment, duration], outputs=generation)\n",
    "    # clear_button.click(fn=lambda: [None, None, None, None, None], outputs=[gender, level, muscle_group, equipment, duration])\n",
    "\n",
    "demo.launch(share=False)"
   ]
  },
  {
   "cell_type": "code",
   "execution_count": null,
   "metadata": {},
   "outputs": [],
   "source": []
  },
  {
   "cell_type": "code",
   "execution_count": null,
   "metadata": {},
   "outputs": [],
   "source": []
  }
 ],
 "metadata": {
  "kernelspec": {
   "display_name": "ml",
   "language": "python",
   "name": "python3"
  },
  "language_info": {
   "codemirror_mode": {
    "name": "ipython",
    "version": 3
   },
   "file_extension": ".py",
   "mimetype": "text/x-python",
   "name": "python",
   "nbconvert_exporter": "python",
   "pygments_lexer": "ipython3",
   "version": "3.10.9"
  }
 },
 "nbformat": 4,
 "nbformat_minor": 2
}

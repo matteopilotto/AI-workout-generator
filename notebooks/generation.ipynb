{
 "cells": [
  {
   "cell_type": "markdown",
   "metadata": {},
   "source": [
    "### Setup"
   ]
  },
  {
   "cell_type": "code",
   "execution_count": 1,
   "metadata": {},
   "outputs": [
    {
     "name": "stderr",
     "output_type": "stream",
     "text": [
      "c:\\Users\\matte\\miniconda3\\envs\\ml\\lib\\site-packages\\pinecone\\index.py:4: TqdmExperimentalWarning: Using `tqdm.autonotebook.tqdm` in notebook mode. Use `tqdm.tqdm` instead to force console mode (e.g. in jupyter console)\n",
      "  from tqdm.autonotebook import tqdm\n"
     ]
    },
    {
     "data": {
      "text/plain": [
       "True"
      ]
     },
     "execution_count": 1,
     "metadata": {},
     "output_type": "execute_result"
    }
   ],
   "source": [
    "from langchain.document_loaders import PyPDFLoader\n",
    "from langchain.schema.messages import HumanMessage, SystemMessage\n",
    "import os\n",
    "import openai\n",
    "import tiktoken\n",
    "import pinecone\n",
    "from tqdm.autonotebook import tqdm\n",
    "from dotenv import load_dotenv\n",
    "from uuid import uuid4\n",
    "from langchain.vectorstores import Pinecone\n",
    "from langchain.chat_models import ChatOpenAI\n",
    "from langchain.embeddings.openai import OpenAIEmbeddings\n",
    "from langchain.chains import RetrievalQA\n",
    "from tqdm.auto import tqdm\n",
    "import random\n",
    "import gradio as gr\n",
    "import time\n",
    "\n",
    "load_dotenv()"
   ]
  },
  {
   "cell_type": "markdown",
   "metadata": {},
   "source": [
    "### Connect to Pinecone"
   ]
  },
  {
   "cell_type": "code",
   "execution_count": 2,
   "metadata": {},
   "outputs": [
    {
     "name": "stdout",
     "output_type": "stream",
     "text": [
      "['workouts']\n",
      "{'dimension': 1536,\n",
      " 'index_fullness': 0.0,\n",
      " 'namespaces': {'': {'vector_count': 39}},\n",
      " 'total_vector_count': 39}\n"
     ]
    }
   ],
   "source": [
    "index_name = \"workouts\"\n",
    "\n",
    "pinecone.init(\n",
    "    api_key=os.getenv(\"PINECONE_API_KEY\"),\n",
    "    environment=os.getenv(\"PINECONE_ENVIRONMENT\")\n",
    ")\n",
    "\n",
    "active_indexes = pinecone.list_indexes()\n",
    "print(active_indexes)\n",
    "\n",
    "index = pinecone.GRPCIndex(index_name)\n",
    "print(index.describe_index_stats())"
   ]
  },
  {
   "cell_type": "markdown",
   "metadata": {},
   "source": [
    "### Query vectorstore"
   ]
  },
  {
   "cell_type": "code",
   "execution_count": 3,
   "metadata": {},
   "outputs": [],
   "source": [
    "# initialized OpenAI's embedding model\n",
    "embedding_model_name = \"text-embedding-ada-002\"\n",
    "\n",
    "embedding_model = OpenAIEmbeddings(\n",
    "    model=embedding_model_name,\n",
    "    openai_api_key=os.getenv(\"OPENAI_API_KEY\")\n",
    ")"
   ]
  },
  {
   "cell_type": "code",
   "execution_count": 4,
   "metadata": {},
   "outputs": [],
   "source": [
    "# initialized vectorstore\n",
    "text_field = \"text\"\n",
    "index = pinecone.Index(index_name)\n",
    "vectorstore = Pinecone(index, embedding_model, text_field)"
   ]
  },
  {
   "cell_type": "code",
   "execution_count": 5,
   "metadata": {},
   "outputs": [
    {
     "data": {
      "text/plain": [
       "[Document(page_content='Shoulder Workout A (Weeks 1, 3, 5, 7)\\nExercise Sets Reps\\nStanding Barbell Press 6 2 - 5\\nStanding Single Arm Lateral Raise 4 6 - 9\\nReverse Lateral Raise on Incline Bench 3 10 - 13\\nFace Pulls 3 10 - 13\\nShoulder Workout B (Weeks 2, 4, 6, 8)\\nExercise Sets Reps\\nSeated Barbell Press 6 2 - 5\\nSeated Lateral Raise 4 6 - 9\\nSingle Arm Machine Lateral Raise 3 10 - 13\\nSeated Reverse Machine Fly 3 10 - 13\\nMUSCLEANDSTRENGTH.COM\\nTHE TOOLS YOU NEED TO BUILD \\nTHE BODY YOU WANT®\\nStore Workouts Diet Plans Expert Guides Videos Tools\\nTHE PERFECT WORKOUT FOR ROCK SOLID \\nSHOULDERS\\nBuild perfectly balanced shoulders with \\ndeltoids that cap with this workout routine. \\nThe workout incorporates 2 workouts that you \\nalternate weekly.\\nLink to Workout : https://www.muscleandstrength.com/\\nworkouts/perfect-workout-for-shoulders\\nMain Goal:  Build Muscle\\nTraining Level:  Intermediate \\nProgram Duration:  8 Weeks\\nDays Per Week:  1 Day\\nTime Per Workout:  45-75 MinsEquipment:  Barbell, Cables, \\nDumbbells, Machines\\nTarget Gender: Male & Female\\nAuthor:  Roger “Rock” Lockridge\\n', metadata={'source': 'https://www.muscleandstrength.com/sites/default/files/workouts/theperfectworkoutforrocksolidshoulders.pdf', 'title': 'theperfectworkoutforrocksolidshoulders'}),\n",
       " Document(page_content='Exercise Sets Reps Rest\\nSeated Shoulder Press (1 1/2 Reps) 4 8 - 12 60 Sec\\nFront Raise (Long Pause at the Top) 3 8 - 12 60 Sec\\nLateral Raise (Left, Right, Both) 3 8 - 12 60 Sec\\nSingle Arm Face Pull 3 8 - 12 60 Sec\\nRear Delt Fly (Race to 100 Reps) 1 100 20 - 30 Sec\\nDumbbell Shrug 3 8 - 12 60 Sec\\nMUSCLEANDSTRENGTH.COM\\n8-WEEK SHOULDER WORKOUT TO \\nBUILD CANNONBALL DELTS\\nMain Goal:  Build Muscle\\nTraining Level:  Intermediate  \\nDays Per Week: 1 Days\\nProgram Duration:  8 Weeks\\nClick here for the full workout!  Equipment:  Cables, Dumbbells\\nTarget Gender:  Male & Female\\nAuthor:  Roger “Rock” Lockridge\\n8-Week Shoulder Workout to Build \\nCannonball Delts\\nWorkout\\nSummary', metadata={'source': 'https://www.muscleandstrength.com/sites/default/files/workouts/8weekshoulderworkouttobuildcannonballdelts.pdf', 'title': '8weekshoulderworkouttobuildcannonballdelts'}),\n",
       " Document(page_content='Week 1: The FTX2™* Method\\nExercise Tempo Sets Reps\\nSeated Dumbbell Lateral Raise 2/0/1 3 21 - 25\\nMilitary Press 5/1/1 3 4 - 6\\nWide Grip Barbell Upright Row 2/1/1/1 3 10 - 12\\nSingle Arm Reverse Cable Fly 2/0/1/2 3 10 - 12\\n*Fast Twitch Exponential\\nWeek 2: The SPEC™* Method\\nExercise Tempo Sets Reps\\nIncline Dumbbell Side Lateral Raise 2/4/1 3 8 - 10\\nMachine Reverse Fly 2/0/1/4 3 8 - 10\\nSeated Dumbbell Press 6/0/1 3 6 - 8\\nWide Grip Cable Upright Row 2/0/4 3 6 - 8\\n*Stretch/Peak Contraction/Eccentric/Concentric Emphasis\\nWeek 3: The PRRS™ (Hybrid) Method\\nExercise Tempo Sets Reps\\nMachine Shoulder Press 4/1/1 3 4 - 6\\nSeated Bent Over Rear Delt Fly 2/1/1 3 13 -15, 10 - 12, 7 - 9\\nA1. Dumbbell Lateral Raise 2/1/1 3 10 - 12\\nA2. Incline Cable Front Raise 2/0/1/1 3 7 - 9\\nWeek 4: The FDFS™* Method\\nExercise Tempo Sets Reps\\nSmith Military Press 3/0/X 3 3 - 4\\nSingle Arm Palm In Seated Machine Press 6/0/1 2 5 - 7\\nSingle Arm Behind Back Cable Lateral 2/4/1 3 8 - 10\\nShoulder Wide Grip Barbell Front Raise 1/0/1 2 26 - 30\\nCable Rope High Pull 1/0/1 2 26 - 30\\n*Fiber Damage/Fiber Saturation\\nMUSCLEANDSTRENGTH.COM\\nTHE TOOLS YOU NEED TO BUILD \\nTHE BODY YOU WANT®\\nStore Workouts Diet Plans Expert Guides Videos Tools\\n4 WEEK SHOULDER SHOCKER TO IGNITE \\nMUSCLE GROWTH\\nShock your shoulders and ignite their growth \\nwith this 4 week workout containing patented \\ntraining strategies from coach Eric Broser.\\nLink to Workout : https://www.muscleandstrength.com/\\nworkouts/4-week-shoulder-shocker-workout\\nMain Goal:  Build Muscle\\nTraining Level:  Advanced\\nProgram Duration:  4 Weeks\\nDays Per Week:  1 Day\\nTime Per Workout:  45-70 MinsEquipment:  Barbell, Cables, \\nDumbbells, Machines\\nTarget Gender: Male & Female\\nAuthor:  Eric Broser\\n', metadata={'source': 'https://www.muscleandstrength.com/sites/default/files/workouts/4weekshouldershockertoignitemusclegrowth.pdf', 'title': '4weekshouldershockertoignitemusclegrowth'})]"
      ]
     },
     "execution_count": 5,
     "metadata": {},
     "output_type": "execute_result"
    }
   ],
   "source": [
    "# check\n",
    "query = \"shoulder workout\"\n",
    "vectorstore.similarity_search(query, k=3)"
   ]
  },
  {
   "cell_type": "markdown",
   "metadata": {},
   "source": [
    "### Initialized LLM"
   ]
  },
  {
   "cell_type": "code",
   "execution_count": 6,
   "metadata": {},
   "outputs": [],
   "source": [
    "# initialize GPT4\n",
    "llm = ChatOpenAI(\n",
    "    openai_api_key=os.getenv(\"OPENAI_API_KEY\"),\n",
    "    model_name=\"gpt-4-1106-preview\",\n",
    "    temperature=0.0\n",
    ")"
   ]
  },
  {
   "cell_type": "markdown",
   "metadata": {},
   "source": [
    "### Define prompts"
   ]
  },
  {
   "cell_type": "code",
   "execution_count": 7,
   "metadata": {},
   "outputs": [],
   "source": [
    "system_prompt = \"\"\"\n",
    "You're the world's best personal trainer.\n",
    "You always provide your clients with all the information needed to become fitter, stronger and healthier through physical training.\n",
    "You use your science science know and expertise, nutrition advice, and other relevant factors to create workout routines suitable to your clients.\n",
    "If clients tell you they do not have access to gym equipments, you never fail to recommend exercises that do not require any tool or equipment.\n",
    "\n",
    "For each exercise you always provide the reps, sets and rest intervals in seconds appropriate for each exercise and the client's fitness level.\n",
    "You start each workout program with about 5 minutes of warm-up exercises to make the body ready for more strenuous activities and make it easier to exercise.\n",
    "You end each workout routine with 5 about minutes of cool-down exercises to ease the body, lower the chance of injury, promote blood flow, and reduce stress to the heart and the muscles.\n",
    "The warm-up and cool-down exercises are always different and they are always appropriate for the muscle group the person wants to train.\n",
    "You never recommend exercises in the main workout routine in the warm-up or cool-down sections.\n",
    "Remember, when clients tell you they do not have access to gym equipments, all the exercises you recommend, including the warm-up and cool-down exercises, can be performed without any tool.\n",
    "You always limit yourself to respond with the list of exercises. You never add any additional comment.\n",
    "\n",
    "Design the workout based on the following information:\n",
    "{workout_context}\n",
    "\n",
    "\n",
    "Output format:\n",
    "## 🤸 Warp-up:\n",
    "- <exercise name> (<duration> minutes)\n",
    "...\n",
    "- <exercise name> (<duration> minutes)\n",
    "\n",
    "## 🏋️‍♀️ Workout\n",
    "- <exercise name> (<reps> reps, <sets> sets, <rest interval> seconds rest)\n",
    "...\n",
    "- <exercise name> (<reps> reps, <sets> sets, <rest interval> seconds rest)\n",
    "\n",
    "## 🧘 Cool-down:\n",
    "- <exercise name> (<duration> minutes)\n",
    "...\n",
    "- <exercise name> (<duration> minutes)\n",
    "\"\"\".strip()"
   ]
  },
  {
   "cell_type": "markdown",
   "metadata": {},
   "source": [
    "### Generate response"
   ]
  },
  {
   "cell_type": "code",
   "execution_count": 10,
   "metadata": {},
   "outputs": [
    {
     "name": "stdout",
     "output_type": "stream",
     "text": [
      "## 🤸 Warm-up:\n",
      "- Arm Circles (2 minutes)\n",
      "- Shoulder Rolls (2 minutes)\n",
      "- Cross-body Arm Swings (1 minute)\n",
      "- Plank to Downward Dog (1 minute)\n",
      "- Jumping Jacks (1 minute)\n",
      "\n",
      "## 🏋️‍♀️ Workout\n",
      "- Seated Dumbbell Press (8-12 reps, 4 sets, 60 seconds rest)\n",
      "- Standing Dumbbell Lateral Raise (8-12 reps, 3 sets, 60 seconds rest)\n",
      "- Front Dumbbell Raise (8-12 reps, 3 sets, 60 seconds rest)\n",
      "- Bent-Over Dumbbell Reverse Fly (8-12 reps, 3 sets, 60 seconds rest)\n",
      "- Dumbbell Shrugs (8-12 reps, 3 sets, 60 seconds rest)\n",
      "- Alternating Dumbbell Front Raise (8-12 reps, 2 sets, 60 seconds rest)\n",
      "- Dumbbell Arnold Press (8-12 reps, 3 sets, 60 seconds rest)\n",
      "\n",
      "## 🧘 Cool-down:\n",
      "- Chest Stretch (1 minute)\n",
      "- Shoulder Stretch (1 minute)\n",
      "- Triceps Stretch (1 minute)\n",
      "- Cross-body Shoulder Stretch (1 minute each side)\n",
      "- Standing Forward Bend (1 minute)"
     ]
    }
   ],
   "source": [
    "query = \"40 minutes shoulder workout dumbbells only\"\n",
    "\n",
    "# retrieve most similar workouts to the input query\n",
    "similar_workouts = vectorstore.similarity_search(query, k=10)\n",
    "\n",
    "# (optional) random sample a subset of workouts to promote diversity\n",
    "similar_workouts = random.sample(similar_workouts, 10)\n",
    "\n",
    "# join together the retrieved workouts in a single string\n",
    "similar_workouts = \"\\n\\n\".join([d.page_content for d in similar_workouts])\n",
    "\n",
    "# print(system_prompt.format(workout_context=similar_workouts))\n",
    "\n",
    "# build input messages to feed to the LLM\n",
    "messages = [\n",
    "    SystemMessage(content=system_prompt.format(workout_context=similar_workouts)),\n",
    "    HumanMessage(content=query)\n",
    "]\n",
    "\n",
    "# generate response\n",
    "for chunk in llm.stream(messages):\n",
    "    print(chunk.content, end=\"\", flush=True)"
   ]
  },
  {
   "cell_type": "markdown",
   "metadata": {},
   "source": [
    "### Gradio demo"
   ]
  },
  {
   "cell_type": "code",
   "execution_count": 11,
   "metadata": {},
   "outputs": [],
   "source": [
    "embedding_model_name = \"text-embedding-ada-002\"\n",
    "\n",
    "embedding_model = OpenAIEmbeddings(\n",
    "    model=embedding_model_name,\n",
    "    openai_api_key=os.getenv(\"OPENAI_API_KEY\")\n",
    ")\n",
    "\n",
    "llm = ChatOpenAI(\n",
    "    openai_api_key=os.getenv(\"OPENAI_API_KEY\"),\n",
    "    model_name=\"gpt-4-1106-preview\",\n",
    "    # model_name=\"gpt-3.5-turbo-1106\",\n",
    "    temperature=0.0\n",
    ")\n",
    "\n",
    "index_name = \"workouts\"\n",
    "\n",
    "pinecone.init(\n",
    "    api_key=os.getenv(\"PINECONE_API_KEY\"),\n",
    "    environment=os.getenv(\"PINECONE_ENVIRONMENT\")\n",
    ")\n",
    "\n",
    "text_field = \"text\"\n",
    "index = pinecone.Index(index_name)\n",
    "vectorstore = Pinecone(index, embedding_model, text_field)"
   ]
  },
  {
   "cell_type": "code",
   "execution_count": 12,
   "metadata": {},
   "outputs": [],
   "source": [
    "system_prompt = \"\"\"\n",
    "You're the world's best personal trainer.\n",
    "You always provide your clients with all the information needed to become fitter, stronger and healthier through physical training.\n",
    "You use your science science know and expertise, nutrition advice, and other relevant factors to create workout routines suitable to your clients.\n",
    "If clients tell you they do not have access to gym equipments, you never fail to recommend exercises that do not require any tool or equipment.\n",
    "\n",
    "For each exercise you always provide the reps, sets and rest intervals in seconds appropriate for each exercise and the client's fitness level.\n",
    "You start each workout program with about 5 minutes of warm-up exercises to make the body ready for more strenuous activities and make it easier to exercise.\n",
    "You end each workout routine with 5 about minutes of cool-down exercises to ease the body, lower the chance of injury, promote blood flow, and reduce stress to the heart and the muscles.\n",
    "The warm-up and cool-down exercises are always different and they are always appropriate for the muscle group the person wants to train.\n",
    "You never recommend exercises in the main workout routine in the warm-up or cool-down sections.\n",
    "Remember, when clients tell you they do not have access to gym equipments, all the exercises you recommend, including the warm-up and cool-down exercises, can be performed without any tool.\n",
    "You always limit yourself to respond with the list of exercises. You never add any additional comment.\n",
    "\n",
    "Design the workout based on the following information:\n",
    "{workout_context}\n",
    "\n",
    "\n",
    "Output format:\n",
    "## 🤸 Warp-up:\n",
    "- <exercise name> (<duration> minutes)\n",
    "...\n",
    "- <exercise name> (<duration> minutes)\n",
    "\n",
    "## 🏋️‍♀️ Workout\n",
    "- <exercise name> (<reps> reps, <sets> sets, <rest interval> seconds rest)\n",
    "...\n",
    "- <exercise name> (<reps> reps, <sets> sets, <rest interval> seconds rest)\n",
    "\n",
    "## 🧘 Cool-down:\n",
    "- <exercise name> (<duration> minutes)\n",
    "...\n",
    "- <exercise name> (<duration> minutes)\n",
    "\"\"\".strip()"
   ]
  },
  {
   "cell_type": "code",
   "execution_count": 13,
   "metadata": {},
   "outputs": [],
   "source": [
    "def retrieve_knowledge(query, k=10, randomize=True):\n",
    "    knowledge = [d.page_content.strip() for d in vectorstore.similarity_search(query, k=k)]\n",
    "    \n",
    "    if randomize:\n",
    "        knowledge = random.sample(knowledge, k)\n",
    "\n",
    "    knowledge = \"\\n\\n\\n\".join(knowledge)\n",
    "\n",
    "    return knowledge\n",
    "\n",
    "\n",
    "def generate_workout(query, knowledge):\n",
    "    messages = [\n",
    "        SystemMessage(content=system_prompt.format(workout_context=knowledge)),\n",
    "        HumanMessage(content=query)\n",
    "    ]\n",
    "\n",
    "    response = llm.invoke(messages).content.strip()\n",
    "\n",
    "    return response"
   ]
  },
  {
   "cell_type": "code",
   "execution_count": 14,
   "metadata": {},
   "outputs": [
    {
     "name": "stdout",
     "output_type": "stream",
     "text": [
      "## 🤸 Warm-up:\n",
      "- Arm Circles (2 minutes)\n",
      "- Shoulder Shrugs (1 minute)\n",
      "- Standing Wall Push (1 minute)\n",
      "- Cross-body Shoulder Stretch (30 seconds each side)\n",
      "- Overhead Reach and Pull (1 minute)\n",
      "\n",
      "## 🏋️‍♀️ Workout\n",
      "- Standing Dumbbell Press (6 reps, 4 sets, 90 seconds rest)\n",
      "- Alternating Dumbbell Front Raise (8 reps, 3 sets, 60 seconds rest)\n",
      "- Dumbbell Lateral Raise (10 reps, 3 sets, 60 seconds rest)\n",
      "- Bent Over Dumbbell Reverse Fly (12 reps, 3 sets, 60 seconds rest)\n",
      "- Dumbbell Shrugs (15 reps, 3 sets, 60 seconds rest)\n",
      "- Standing Dumbbell Upright Row (8 reps, 3 sets, 60 seconds rest)\n",
      "- Dumbbell Arnold Press (10 reps, 3 sets, 90 seconds rest)\n",
      "\n",
      "## 🧘 Cool-down:\n",
      "- Shoulder Stretch with Towel (2 minutes each side)\n",
      "- Chest Stretch against Wall (1 minute each side)\n",
      "- Child's Pose with Arm Extension (2 minutes)\n",
      "- Neck Rolls (1 minute)\n"
     ]
    }
   ],
   "source": [
    "query = \"40 minutes shoulder workout dumbbells only\"\n",
    "workout_context = retrieve_knowledge(query, k=10, randomize=True)\n",
    "\n",
    "response = generate_workout(query, workout_context)\n",
    "print(response)"
   ]
  },
  {
   "cell_type": "code",
   "execution_count": 15,
   "metadata": {},
   "outputs": [],
   "source": [
    "def run(gender, muscle_group, equipment, level, duration, k=5, randomize=True):\n",
    "    query = f\"{duration}-minute {muscle_group} workout for {gender} {level} level {equipment}\"\n",
    "    knowledge = retrieve_knowledge(query, k, randomize)\n",
    "    response = generate_workout(query, knowledge)\n",
    "\n",
    "    for i in range(len(response)):\n",
    "        time.sleep(0.002)\n",
    "        yield response[:i+1]"
   ]
  },
  {
   "cell_type": "code",
   "execution_count": null,
   "metadata": {},
   "outputs": [],
   "source": [
    "css = \"\"\"\n",
    "#gen-button {\n",
    "    background-color: #cc6600;\n",
    "    color: white;\n",
    "    font-size: 24px !important;\n",
    "}\n",
    "\"\"\".strip()\n",
    "\n",
    "with gr.Blocks(theme=gr.themes.Monochrome(radius_size=gr.themes.sizes.radius_sm), css=css) as demo:\n",
    "    with gr.Row():\n",
    "        gr.Markdown(\"# Workout Generator\")\n",
    "\n",
    "    with gr.Row():\n",
    "        with gr.Column(scale=1):\n",
    "            with gr.Row():\n",
    "                gender = gr.Radio([\"Male\", \"Female\"], label=\"Gender\", elem_id=\"#my-button\")\n",
    "            with gr.Row():\n",
    "                level = gr.Radio([\"Beginner\", \"Intermediate\", \"Advanced\"], label=\"Level\")\n",
    "            with gr.Row():\n",
    "                muscle_group = gr.Radio([\"Shoulders\", \"Chest\", \"Back\", \"Abs\", \"Arms\", \"Legs\"], label=\"Muscle Group\")\n",
    "            with gr.Row():\n",
    "                equipment = gr.Radio([\"Gym Equipment\", \"Dumbbells Only\", \"No Equipment\"], label=\"Equipment\")\n",
    "            with gr.Row():\n",
    "                duration = gr.Slider(20, 60, step=5, label=\"Duration (minutes)\")\n",
    "            with gr.Row():\n",
    "                # clear_button = gr.ClearButton(value=\"Clear Inputs\")\n",
    "                generate_button = gr.Button(\"Generate Workout\", variant=\"primary\", elem_id=\"gen-button\")\n",
    "        with gr.Column(scale=1, min_width=800, elem_id=\"#gen-output\"):\n",
    "            generation = gr.Markdown(value=\"\")\n",
    "\n",
    "    generate_button.click(run, inputs=[gender, level, muscle_group, equipment, duration], outputs=generation)\n",
    "    # clear_button.click(fn=lambda: [None, None, None, None, None], outputs=[gender, level, muscle_group, equipment, duration])\n",
    "\n",
    "demo.launch(share=True)"
   ]
  }
 ],
 "metadata": {
  "kernelspec": {
   "display_name": "ml_workout",
   "language": "python",
   "name": "python3"
  },
  "language_info": {
   "codemirror_mode": {
    "name": "ipython",
    "version": 3
   },
   "file_extension": ".py",
   "mimetype": "text/x-python",
   "name": "python",
   "nbconvert_exporter": "python",
   "pygments_lexer": "ipython3",
   "version": "3.10.9"
  }
 },
 "nbformat": 4,
 "nbformat_minor": 2
}

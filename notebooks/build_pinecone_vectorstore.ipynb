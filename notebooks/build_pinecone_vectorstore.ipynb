{
 "cells": [
  {
   "cell_type": "markdown",
   "metadata": {},
   "source": [
    "### Setup"
   ]
  },
  {
   "cell_type": "code",
   "execution_count": 1,
   "metadata": {},
   "outputs": [
    {
     "name": "stderr",
     "output_type": "stream",
     "text": [
      "c:\\Users\\matte\\miniconda3\\envs\\ml\\lib\\site-packages\\pinecone\\index.py:4: TqdmExperimentalWarning: Using `tqdm.autonotebook.tqdm` in notebook mode. Use `tqdm.tqdm` instead to force console mode (e.g. in jupyter console)\n",
      "  from tqdm.autonotebook import tqdm\n"
     ]
    },
    {
     "data": {
      "text/plain": [
       "True"
      ]
     },
     "execution_count": 1,
     "metadata": {},
     "output_type": "execute_result"
    }
   ],
   "source": [
    "from langchain.document_loaders import PyPDFLoader\n",
    "from langchain.embeddings.openai import OpenAIEmbeddings\n",
    "import os\n",
    "import pinecone\n",
    "from dotenv import load_dotenv\n",
    "from uuid import uuid4\n",
    "from langchain.vectorstores import Pinecone\n",
    "\n",
    "# load enviroment variables\n",
    "load_dotenv()"
   ]
  },
  {
   "cell_type": "markdown",
   "metadata": {},
   "source": [
    "### Build vectorstore"
   ]
  },
  {
   "cell_type": "code",
   "execution_count": 3,
   "metadata": {},
   "outputs": [],
   "source": [
    "# local directory\n",
    "workout_data_path = r\"..\\workout_data\"\n",
    "workout_data_files = [os.path.join(workout_data_path, f) for f in os.listdir(workout_data_path)]\n",
    "\n",
    "# print(len(workout_data_files))\n",
    "# print(workout_data_files)"
   ]
  },
  {
   "cell_type": "code",
   "execution_count": 12,
   "metadata": {},
   "outputs": [],
   "source": [
    "docs = []\n",
    "base_url = \"https://www.muscleandstrength.com/sites/default/files/workouts/\"\n",
    "\n",
    "# read and store the content of each document\n",
    "for f in workout_data_files:\n",
    "    loader = PyPDFLoader(f)\n",
    "    pages = loader.load()\n",
    "    docs.extend(pages)\n",
    "\n",
    "# add url and title as metadata to each document\n",
    "for d in docs:\n",
    "    d.metadata[\"source\"] = base_url + d.metadata[\"source\"].split(\"\\\\\")[-1]\n",
    "    d.metadata[\"title\"] = d.metadata[\"source\"].split(\"/\")[-1][:-4]"
   ]
  },
  {
   "cell_type": "code",
   "execution_count": 15,
   "metadata": {},
   "outputs": [],
   "source": [
    "# for d in docs:\n",
    "#     print(d)"
   ]
  },
  {
   "cell_type": "code",
   "execution_count": 17,
   "metadata": {},
   "outputs": [],
   "source": [
    "# initilize OpenAI's embedding model\n",
    "embedding_model_name = \"text-embedding-ada-002\"\n",
    "\n",
    "embedding_model = OpenAIEmbeddings(\n",
    "    model=embedding_model_name,\n",
    "    openai_api_key=os.getenv(\"OPENAI_API_KEY\")\n",
    ")"
   ]
  },
  {
   "cell_type": "code",
   "execution_count": 50,
   "metadata": {},
   "outputs": [
    {
     "data": {
      "text/plain": [
       "(1, 1536)"
      ]
     },
     "execution_count": 50,
     "metadata": {},
     "output_type": "execute_result"
    }
   ],
   "source": [
    "embedding = embedding_model.embed_documents([docs[0].page_content])\n",
    "len(embedding), len(embedding[0])"
   ]
  },
  {
   "cell_type": "code",
   "execution_count": 36,
   "metadata": {},
   "outputs": [
    {
     "name": "stdout",
     "output_type": "stream",
     "text": [
      "[]\n"
     ]
    }
   ],
   "source": [
    "# initilize pinecone\n",
    "\n",
    "pinecone.init(\n",
    "    api_key=os.getenv(\"PINECONE_API_KEY\"),\n",
    "    environment=os.getenv(\"PINECONE_ENVIRONMENT\")\n",
    ")\n",
    "\n",
    "# check active indexes\n",
    "active_indexes = pinecone.list_indexes()\n",
    "print(active_indexes)"
   ]
  },
  {
   "cell_type": "code",
   "execution_count": 37,
   "metadata": {},
   "outputs": [],
   "source": [
    "# set up a new index\n",
    "index_name = \"workouts\"\n",
    "\n",
    "# skip if the index already exists\n",
    "if index_name not in pinecone.list_indexes():\n",
    "    pinecone.create_index(\n",
    "        name=index_name,\n",
    "        metric=\"cosine\",\n",
    "        dimension=len(embedding[0])  # 1536 dim of text-embedding-ada-002\n",
    "    )"
   ]
  },
  {
   "cell_type": "code",
   "execution_count": 40,
   "metadata": {},
   "outputs": [
    {
     "data": {
      "text/plain": [
       "{'dimension': 1536,\n",
       " 'index_fullness': 0.0,\n",
       " 'namespaces': {},\n",
       " 'total_vector_count': 0}"
      ]
     },
     "execution_count": 40,
     "metadata": {},
     "output_type": "execute_result"
    }
   ],
   "source": [
    "# load the newly create index\n",
    "# it might return an error signaling the index is not ready yet\n",
    "index = pinecone.GRPCIndex(index_name)\n",
    "index.describe_index_stats()"
   ]
  },
  {
   "cell_type": "code",
   "execution_count": 48,
   "metadata": {},
   "outputs": [
    {
     "data": {
      "application/vnd.jupyter.widget-view+json": {
       "model_id": "eb098d209f4d4a6ea3a8840cabe93de9",
       "version_major": 2,
       "version_minor": 0
      },
      "text/plain": [
       "  0%|          | 0/39 [00:00<?, ?it/s]"
      ]
     },
     "metadata": {},
     "output_type": "display_data"
    },
    {
     "name": "stdout",
     "output_type": "stream",
     "text": [
      "39 39\n",
      "39 1536\n"
     ]
    }
   ],
   "source": [
    "# prepare text and metadata\n",
    "texts = []\n",
    "metadatas = []\n",
    "\n",
    "for doc in tqdm(docs):\n",
    "    metadata = {\n",
    "        \"text\": doc.page_content,\n",
    "        \"title\": doc.metadata[\"title\"],\n",
    "        \"source\": doc.metadata[\"source\"]\n",
    "    }\n",
    "\n",
    "    metadatas.append(metadata)\n",
    "    texts.append(doc.page_content)\n",
    "    \n",
    "print(len(metadatas), len(texts))\n",
    "\n",
    "# generate an ID for each document\n",
    "ids = [str(uuid4()) for _ in range(len(texts))]\n",
    "\n",
    "# embed document\n",
    "text_embeddings = embedding_model.embed_documents(texts)\n",
    "print(len(text_embeddings), len(text_embeddings[0]))"
   ]
  },
  {
   "cell_type": "code",
   "execution_count": 51,
   "metadata": {},
   "outputs": [
    {
     "data": {
      "text/plain": [
       "upserted_count: 39"
      ]
     },
     "execution_count": 51,
     "metadata": {},
     "output_type": "execute_result"
    }
   ],
   "source": [
    "# add data to the vectorstore\n",
    "index.upsert(vectors=zip(ids, text_embeddings, metadatas))"
   ]
  },
  {
   "cell_type": "code",
   "execution_count": 52,
   "metadata": {},
   "outputs": [
    {
     "data": {
      "text/plain": [
       "{'dimension': 1536,\n",
       " 'index_fullness': 0.0,\n",
       " 'namespaces': {'': {'vector_count': 39}},\n",
       " 'total_vector_count': 39}"
      ]
     },
     "execution_count": 52,
     "metadata": {},
     "output_type": "execute_result"
    }
   ],
   "source": [
    "index.describe_index_stats()"
   ]
  },
  {
   "cell_type": "markdown",
   "metadata": {},
   "source": [
    "### Query vectorstore"
   ]
  },
  {
   "cell_type": "code",
   "execution_count": 62,
   "metadata": {},
   "outputs": [],
   "source": [
    "# set up field to return as \"page_content\"\n",
    "text_field = \"text\"\n",
    "\n",
    "# load vectorstore\n",
    "index = pinecone.Index(index_name)\n",
    "vectorstore = Pinecone(index, embedding_model, text_field)"
   ]
  },
  {
   "cell_type": "code",
   "execution_count": 63,
   "metadata": {},
   "outputs": [
    {
     "data": {
      "text/plain": [
       "[Document(page_content='Exercise Sets Reps\\nAb Crunch 3 15\\nLying Leg Raise 3 15\\nSide Oblique Crunch (Each Side) 3 15 Each\\nGlute Kick Back 3 15\\nDumbbell Romanian Deadlift 3 15\\nReverse Lunge 3 15\\nExercise Sets Reps\\nDumbbell Squat 3 15\\nDumbbell Lunge (Each Side) 3 15 Each\\nDumbbell Lying Leg Curl (On The Floor) 3 15\\nBodyweight Single Leg Deadlift 3 15\\nSeated Calf Raise 3 15\\nStanding Calf Raise 3 15\\nExercise Sets Reps\\nDumbbell Bench Press (On The Floor) 3 15\\nBent-Over Dumbbell Row 3 15\\nDumbbell Pullover 3 15\\nLateral Raise 3 15\\nLying Dumbbell Extension 3 15\\nHammer Dumbbell Curl 3 15\\nMUSCLEANDSTRENGTH.COM\\n3 DAY FULL BODY WOMEN’S\\nDUMBBELL ONLY WORKOUT\\nMain Goal:  Build Muscle\\nTraining Level:  Beginner  \\nDays Per Week: 3 Days\\nProgram Duration:  8 Weeks\\nClick here for the full workout!  Equipment:  Bodyweight, Dumbbells\\nTarget Gender:  Female\\nAuthor:  Roger “Rock” Lockridge\\nDay 1 - Abs/Glutes\\nWorkout\\nSummary\\nDay 2 - Lower Body\\nDay 3 - Upper Body', metadata={'source': 'https://www.muscleandstrength.com/sites/default/files/workouts/3dayfullbodywomensdumbbellworkout_.pdf', 'title': '3dayfullbodywomensdumbbellworkout_'}),\n",
       " Document(page_content='Leg Day 1: Hamstring Emphasis \\nExercise Sets Reps\\nSingle Leg Curl 4 10 Each\\nStiff-Legged Deadlift 3 10 , 8 , 6\\nBanded Good Mornings 3 12\\nA1. Adductor Machine 3 12\\nA2. Abductor Machine 3 12\\nLeg Press 3 12\\nGoblet Squat 3 12\\n*Rest for 90 seconds between sets\\nLeg Day 2: Quadriceps Emphasis \\nExercise Sets Reps\\nSingle Leg Extension 4 10 Each\\nFront Squat 4 10 , 8 , 6 , 6\\nHack Squat 3 12\\nBarbell Hip Thrust 3 12\\nLying Leg Curl 3 15\\n*Rest for 90 seconds between sets\\nMUSCLEANDSTRENGTH.COM\\nTHE TOOLS YOU NEED TO BUILD \\nTHE BODY YOU WANT®\\nStore Workouts Diet Plans Expert Guides Videos Tools\\nWHEELS WORKOUT: 8 WEEK\\nPROGRAM TO BUILD YOUR LEGS\\nIf you want to have a truly aesthetic physique, \\nyou’re going to need a good looking set of \\nwheels. This 8 week program will help you \\naccomplish that. \\nLink to Workout : https://www.muscleandstrength.com/\\nworkouts/8-week-wheels-workout\\nMain Goal:  Build Muscle\\nTraining Level:  Beginner \\nProgram Duration:  8 Weeks\\nDays Per Week:  1 Day\\nTime Per Workout:  45 - 60 MinsEquipment:  Bands, Barbell, \\nDumbbells, Machines\\nTarget Gender: Male & FemaleAuthor:  Roger “Rock” Lockridge\\n', metadata={'source': 'https://www.muscleandstrength.com/sites/default/files/workouts/wheelsworkout8weekprogramtobuildyourlegs.pdf', 'title': 'wheelsworkout8weekprogramtobuildyourlegs'}),\n",
       " Document(page_content='Hamstrings Workout\\nExercise Sets Reps\\nSingle Lying Leg Curl 3 12, 10, 8\\nRomanian Deadlift 5 5\\nWalking Lunge 3 12 Each\\nLying Leg Curl 3 15**\\n*Rest for 90 seconds between all sets. \\n**Drop set on final set.\\nQuads Workout\\nExercise Sets Reps\\nSingle Leg Press 3 12, 10, 8\\nPause Squat 5  5\\nHack Squat 3 12\\n    Leg Extension 3 15**\\n*Rest for 90 seconds between all sets.\\n**Drop set on final set.\\nMUSCLEANDSTRENGTH.COM\\nTHE TOOLS YOU NEED TO BUILD \\nTHE BODY YOU WANT®\\nStore Workouts Diet Plans Expert Guides Videos Tools\\n2 WEEKLY WORKOUTS FOR \\nLARGER LEGS\\nTake your leg training to new heights by \\nsplitting it up into 2 weekly workouts - 1 \\nworkout for hamstrings and 1 workout for \\nquads. Let us show you how!\\nLink to Workout : https://www.muscleandstrength.com/\\nworkouts/2-weekly-workouts-for-larger-legs\\nMain Goal:  Build Muscle\\nTraining Level:  Intermediate \\nProgram Duration:  8 weeks\\nDays Per Week:  2\\nTime Per Workout:  45-60 MinsEquipment:  Barbell, Bodyweight, \\nMachines\\nTarget Gender: Male & Female\\nAuthor:  Roger “Rock” Lockridge\\n', metadata={'source': 'https://www.muscleandstrength.com/sites/default/files/workouts/2weeklyworkoutsforlargerlegs.pdf', 'title': '2weeklyworkoutsforlargerlegs'})]"
      ]
     },
     "execution_count": 63,
     "metadata": {},
     "output_type": "execute_result"
    }
   ],
   "source": [
    "# retrieve similar content\n",
    "query = \"legs workout\"\n",
    "\n",
    "vectorstore.similarity_search(query, k=3)"
   ]
  }
 ],
 "metadata": {
  "kernelspec": {
   "display_name": "ml_workout",
   "language": "python",
   "name": "python3"
  },
  "language_info": {
   "codemirror_mode": {
    "name": "ipython",
    "version": 3
   },
   "file_extension": ".py",
   "mimetype": "text/x-python",
   "name": "python",
   "nbconvert_exporter": "python",
   "pygments_lexer": "ipython3",
   "version": "3.10.9"
  }
 },
 "nbformat": 4,
 "nbformat_minor": 2
}

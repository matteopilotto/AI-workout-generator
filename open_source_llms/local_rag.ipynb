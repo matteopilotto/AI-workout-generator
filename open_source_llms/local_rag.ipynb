{
 "cells": [
  {
   "cell_type": "code",
   "execution_count": 1,
   "id": "c0d3a713-d245-462e-8830-19a33db3ce8e",
   "metadata": {},
   "outputs": [],
   "source": [
    "import torch\n",
    "from transformers import pipeline, AutoTokenizer, AutoModelForCausalLM\n",
    "from IPython.display import Markdown\n",
    "from getpass import getpass\n",
    "import pinecone\n",
    "from langchain.embeddings.openai import OpenAIEmbeddings\n",
    "from langchain.vectorstores import Pinecone\n",
    "import random\n",
    "\n",
    "device = \"cuda\" if torch.cuda.is_available() else \"cpu\""
   ]
  },
  {
   "cell_type": "code",
   "execution_count": 2,
   "id": "44bf1543-2062-48aa-9e16-4dffd4dab70e",
   "metadata": {},
   "outputs": [
    {
     "data": {
      "application/vnd.jupyter.widget-view+json": {
       "model_id": "caf96653de0445a681296b4d2d0a982a",
       "version_major": 2,
       "version_minor": 0
      },
      "text/plain": [
       "Loading checkpoint shards:   0%|          | 0/3 [00:00<?, ?it/s]"
      ]
     },
     "metadata": {},
     "output_type": "display_data"
    }
   ],
   "source": [
    "# quantization docs: https://huggingface.co/docs/transformers/main/quantization#quantization\n",
    "\n",
    "model_id = \"mistralai/Mistral-7B-Instruct-v0.2\"\n",
    "model = AutoModelForCausalLM.from_pretrained(model_id, attn_implementation=\"flash_attention_2\", load_in_4bit=True)\n",
    "tokenizer = AutoTokenizer.from_pretrained(model_id)\n",
    "# , torch_dtype=torch.bfloat16\n",
    "pipe = pipeline(\"text-generation\", model=model, tokenizer=tokenizer, pad_token_id=tokenizer.eos_token_id, device_map=\"auto\")"
   ]
  },
  {
   "cell_type": "code",
   "execution_count": 3,
   "id": "37e517d8-6c76-49e9-831c-c7248651c658",
   "metadata": {},
   "outputs": [],
   "source": [
    "system_prompt = \"\"\"\n",
    "You're the world's best personal trainer.\n",
    "You always provide your clients with all the information needed to become fitter, stronger and healthier through physical training.\n",
    "You use your science science know and expertise, nutrition advice, and other relevant factors to create workout routines suitable to your clients.\n",
    "If clients tell you they do not have access to gym equipments, you never fail to recommend exercises that do not require any tool or equipment.\n",
    "For each exercise you always provide the reps, sets and rest intervals in seconds appropriate for each exercise and the client's fitness level.\n",
    "You start each workout program with about 5 minutes of warm-up exercises to make the body ready for more strenuous activities and make it easier to exercise.\n",
    "You end each workout routine with 5 about minutes of cool-down exercises to ease the body, lower the chance of injury, promote blood flow, and reduce stress to the heart and the muscles.\n",
    "The warm-up and cool-down exercises are always different and they are always appropriate for the muscle group the person wants to train.\n",
    "You never recommend exercises in the main workout routine in the warm-up or cool-down sections.\n",
    "Remember, when clients tell you they do not have access to gym equipments, all the exercises you recommend, including the warm-up and cool-down exercises, can be performed without any tool.\n",
    "You always limit yourself to respond with the list of exercises. You never add any additional comment.\n",
    "\n",
    "Design the workout based on the following information:\n",
    "{workout_context}\n",
    "\n",
    "Output format:\n",
    "## 🤸 Warp-up:\n",
    "- <exercise name> (<duration> minutes)\n",
    "...\n",
    "- <exercise name> (<duration> minutes)\n",
    "## 🏋️‍♀️ Workout\n",
    "- <exercise name> (<reps> reps, <sets> sets, <rest interval> seconds rest)\n",
    "...\n",
    "- <exercise name> (<reps> reps, <sets> sets, <rest interval> seconds rest)\n",
    "## 🧘 Cool-down:\n",
    "- <exercise name> (<duration> minutes)\n",
    "...\n",
    "- <exercise name> (<duration> minutes)\n",
    "\"\"\".strip()"
   ]
  },
  {
   "cell_type": "code",
   "execution_count": null,
   "id": "e21ba207-6dd0-42c2-a856-fd3fc95db976",
   "metadata": {},
   "outputs": [],
   "source": [
    "duration = \"45\"\n",
    "muscle_group = \"leg\"\n",
    "gender = \"male\"\n",
    "level = \"beginner\"\n",
    "equipment = \"no equipment\"\n",
    "\n",
    "query = f\"{duration}-minute {muscle_group} workout for {gender} {level} level {equipment}\""
   ]
  },
  {
   "cell_type": "code",
   "execution_count": null,
   "id": "b7d489f5-8e3a-4e93-944c-974572ee89b0",
   "metadata": {},
   "outputs": [],
   "source": [
    "messages = [\n",
    "    {\n",
    "        \"role\": \"user\",\n",
    "        \"content\": system_prompt,\n",
    "    },\n",
    "#     {\n",
    "#         \"role\": \"user\",\n",
    "#         \"content\": query\n",
    "#     }\n",
    "]\n",
    "\n",
    "prompt = pipe.tokenizer.apply_chat_template(messages, tokenize=False, add_generation_prompt=True)\n",
    "print(prompt.strip())"
   ]
  },
  {
   "cell_type": "code",
   "execution_count": null,
   "id": "059b323f-01bb-443d-b828-16c2ddb16a2e",
   "metadata": {},
   "outputs": [],
   "source": [
    "%%time\n",
    "outputs = pipe(prompt, max_new_tokens=1024, do_sample=True, temperature=0.1, top_p=0.95)\n",
    "# print(outputs[0][\"generated_text\"].split(\"<|assistant|>\")[-1])"
   ]
  },
  {
   "cell_type": "code",
   "execution_count": null,
   "id": "490dad9d-05a8-4284-b985-f8cb580a8c11",
   "metadata": {},
   "outputs": [],
   "source": [
    "Markdown(outputs[0][\"generated_text\"].split(\"[/INST]\")[-1])"
   ]
  },
  {
   "cell_type": "markdown",
   "id": "d0926aa0-0b78-4ecc-875b-5aba6f90408f",
   "metadata": {},
   "source": [
    "### Add Knowledge Base"
   ]
  },
  {
   "cell_type": "code",
   "execution_count": 4,
   "id": "4bcecfaf-8437-4adb-8248-ac2d9d509abd",
   "metadata": {},
   "outputs": [
    {
     "name": "stdin",
     "output_type": "stream",
     "text": [
      "PINECONE_API_KEY ········\n",
      "PINECONE_ENVIRONMENT ········\n"
     ]
    },
    {
     "name": "stdout",
     "output_type": "stream",
     "text": [
      "['workouts']\n",
      "{'dimension': 1536,\n",
      " 'index_fullness': 0.0,\n",
      " 'namespaces': {'': {'vector_count': 39}},\n",
      " 'total_vector_count': 39}\n"
     ]
    }
   ],
   "source": [
    "index_name = \"workouts\"\n",
    "\n",
    "pinecone.init(\n",
    "    api_key=getpass(\"PINECONE_API_KEY\"),\n",
    "    environment=getpass(\"PINECONE_ENVIRONMENT\")\n",
    ")\n",
    "\n",
    "active_indexes = pinecone.list_indexes()\n",
    "print(active_indexes)\n",
    "\n",
    "index = pinecone.GRPCIndex(index_name)\n",
    "print(index.describe_index_stats())"
   ]
  },
  {
   "cell_type": "code",
   "execution_count": 5,
   "id": "f1188ba4-5d23-4750-92d1-336655e51415",
   "metadata": {},
   "outputs": [
    {
     "name": "stdin",
     "output_type": "stream",
     "text": [
      "OPENAI_API_KEY ········\n"
     ]
    },
    {
     "name": "stderr",
     "output_type": "stream",
     "text": [
      "/usr/local/lib/python3.10/dist-packages/langchain_core/_api/deprecation.py:117: LangChainDeprecationWarning: The class `langchain_community.embeddings.openai.OpenAIEmbeddings` was deprecated in langchain-community 0.1.0 and will be removed in 0.2.0. Use langchain_openai.OpenAIEmbeddings instead.\n",
      "  warn_deprecated(\n"
     ]
    }
   ],
   "source": [
    "embedding_model_name = \"text-embedding-ada-002\"\n",
    "\n",
    "embedding_model = OpenAIEmbeddings(\n",
    "    model=embedding_model_name,\n",
    "    openai_api_key=getpass(\"OPENAI_API_KEY\")\n",
    ")"
   ]
  },
  {
   "cell_type": "code",
   "execution_count": 6,
   "id": "5db29ae1-2608-4327-b918-75b18757e4fb",
   "metadata": {},
   "outputs": [],
   "source": [
    "text_field = \"text\"\n",
    "index = pinecone.Index(index_name)\n",
    "vectorstore = Pinecone(index, embedding_model, text_field)"
   ]
  },
  {
   "cell_type": "code",
   "execution_count": null,
   "id": "b863d0d0-d671-47e1-9349-c7d911723e36",
   "metadata": {},
   "outputs": [],
   "source": [
    "# query = \"shoulder workout\"\n",
    "# vectorstore.similarity_search(query, k=3)"
   ]
  },
  {
   "cell_type": "code",
   "execution_count": 10,
   "id": "d9760d45-a8d9-4088-a4a0-9def9739f7f1",
   "metadata": {},
   "outputs": [],
   "source": [
    "query = \"45 minutes legs workout that does not require any equpment\"\n",
    "num_samples = 3\n",
    "\n",
    "# retrieve most similar workouts to the input query\n",
    "similar_workouts = vectorstore.similarity_search(query, k=num_samples)\n",
    "\n",
    "# (optional) random sample a subset of workouts to promote diversity\n",
    "similar_workouts = random.sample(similar_workouts, num_samples)\n",
    "\n",
    "# join together the retrieved workouts in a single string\n",
    "similar_workouts = \"\\n\\n\".join([d.page_content for d in similar_workouts])\n",
    "\n",
    "# print(system_prompt.format(workout_context=similar_workouts))\n",
    "\n",
    "# build input messages to feed to the LLM\n",
    "messages = [\n",
    "    {\n",
    "        \"role\": \"user\",\n",
    "        \"content\": system_prompt.format(workout_context=similar_workouts)\n",
    "    },\n",
    "#     {\n",
    "#         \"role\": \"user\",\n",
    "#         \"content\": query\n",
    "#     }\n",
    "]\n",
    "\n",
    "prompt = pipe.tokenizer.apply_chat_template(messages, tokenize=False, add_generation_prompt=True)\n",
    "# print(prompt.strip())"
   ]
  },
  {
   "cell_type": "code",
   "execution_count": 11,
   "id": "8d08f4f4-dd85-46d4-b51b-8301ffecb481",
   "metadata": {},
   "outputs": [
    {
     "name": "stdout",
     "output_type": "stream",
     "text": [
      "CPU times: user 19.8 s, sys: 63.9 ms, total: 19.9 s\n",
      "Wall time: 19.9 s\n"
     ]
    }
   ],
   "source": [
    "%%time\n",
    "\n",
    "outputs = pipe(prompt, max_new_tokens=1024, do_sample=True, temperature=0.1, top_p=0.95)"
   ]
  },
  {
   "cell_type": "code",
   "execution_count": 12,
   "id": "dc20e7b4-0345-46e9-9b48-c60443130d20",
   "metadata": {},
   "outputs": [
    {
     "data": {
      "text/markdown": [
       " ## 🤸 Warm-up:\n",
       "- Fast-Paced Walk (3 minutes)\n",
       "- Hack Squat (1 minute)\n",
       "- Single-Leg Press (1 minute)\n",
       "- Leg Extension (1 minute)\n",
       "- Bodyweight Walking Lunge (1 minute)\n",
       "- Side Plank (30 seconds, each side)\n",
       "- Plyometric Push Up (1 minute)\n",
       "- Rack Lat Stretch (30 seconds)\n",
       "\n",
       "## 🏋️‍♀️ Workout\n",
       "- Hack Squat (3 sets, 10-15 reps, 90 seconds rest)\n",
       "- Single-Leg Press (3 sets, 15 reps per leg, 60 seconds rest)\n",
       "- Leg Extension (3 sets, 15 reps, 60 seconds rest)\n",
       "- Box Squat (3 sets, 10-15 reps, 90 seconds rest)\n",
       "- Sled Pull (3 sets, 15 reps per leg, 60 seconds rest)\n",
       "- Dumbbell Leg Extension (3 sets, 15 reps, 60 seconds rest)\n",
       "\n",
       "## 🧘 Cool-down:\n",
       "- Fast-Paced Walk (3 minutes)\n",
       "- Bodyweight Standing Calf Raise (1 minute)\n",
       "- IT Band Foam Roller (1 minute, each side)\n",
       "- Bodyweight Single-Leg Deadlift (1 minute, each side)\n",
       "- Prisoner Squat (30 seconds, hold at the bottom)\n",
       "- Plank (30 seconds)\n",
       "- Band Pull-Apart (1 minute)\n",
       "- Seated Zottman Curl (1 minute)\n",
       "- 90/90 Hip Crossover (1 minute, each side)\n",
       "- Sit Up (30 seconds)"
      ],
      "text/plain": [
       "<IPython.core.display.Markdown object>"
      ]
     },
     "execution_count": 12,
     "metadata": {},
     "output_type": "execute_result"
    }
   ],
   "source": [
    "Markdown(outputs[0][\"generated_text\"].split(\"[/INST]\")[-1])"
   ]
  }
 ],
 "metadata": {
  "kernelspec": {
   "display_name": "Python 3 (ipykernel)",
   "language": "python",
   "name": "python3"
  },
  "language_info": {
   "codemirror_mode": {
    "name": "ipython",
    "version": 3
   },
   "file_extension": ".py",
   "mimetype": "text/x-python",
   "name": "python",
   "nbconvert_exporter": "python",
   "pygments_lexer": "ipython3",
   "version": "3.10.12"
  }
 },
 "nbformat": 4,
 "nbformat_minor": 5
}
